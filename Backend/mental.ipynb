{
  "nbformat": 4,
  "nbformat_minor": 0,
  "metadata": {
    "colab": {
      "provenance": [],
      "gpuType": "T4"
    },
    "kernelspec": {
      "name": "python3",
      "display_name": "Python 3"
    },
    "language_info": {
      "name": "python"
    },
    "accelerator": "GPU"
  },
  "cells": [
    {
      "cell_type": "code",
      "source": [
        "import numpy as np\n",
        "import pandas as pd\n",
        "import os\n",
        "import cv2\n",
        "import matplotlib.pyplot as plt\n",
        "import seaborn as sns\n",
        "from sklearn.model_selection import train_test_split\n",
        "from sklearn.preprocessing import LabelEncoder\n",
        "from sklearn.metrics import accuracy_score\n",
        "from keras.models import Sequential\n",
        "from keras.layers import Conv2D, MaxPooling2D, Flatten, Dense, Dropout\n",
        "import tensorflow as tf\n",
        "import shap\n",
        "import pickle"
      ],
      "metadata": {
        "id": "VVTkuzygt5R1"
      },
      "execution_count": 1,
      "outputs": []
    },
    {
      "cell_type": "code",
      "source": [],
      "metadata": {
        "id": "KMm7UoqLvDjM"
      },
      "execution_count": 1,
      "outputs": []
    },
    {
      "cell_type": "code",
      "source": [
        "# Step 1: Kaggle Dataset Download\n",
        "!pip install --upgrade kaggle\n",
        "!mkdir -p ~/.kaggle\n",
        "!echo '{\"username\":\"your_username\",\"key\":\"your_kaggle_api_key\"}' > ~/.kaggle/kaggle.json\n",
        "!chmod 600 ~/.kaggle/kaggle.json\n",
        "!kaggle datasets download -d ananthu017/emotion-detection-fer --force\n",
        "\n",
        "# Step 2: Extract Dataset\n",
        "import zipfile\n",
        "with zipfile.ZipFile('./emotion-detection-fer.zip', 'r') as zip_ref:\n",
        "    zip_ref.extractall('./emotion_data')"
      ],
      "metadata": {
        "colab": {
          "base_uri": "https://localhost:8080/"
        },
        "id": "C2YgKqh0t8DL",
        "outputId": "5394abed-7a80-4fa1-856d-1c162ee385d9"
      },
      "execution_count": 2,
      "outputs": [
        {
          "output_type": "stream",
          "name": "stdout",
          "text": [
            "Requirement already satisfied: kaggle in /usr/local/lib/python3.11/dist-packages (1.7.4.2)\n",
            "Requirement already satisfied: bleach in /usr/local/lib/python3.11/dist-packages (from kaggle) (6.2.0)\n",
            "Requirement already satisfied: certifi>=14.05.14 in /usr/local/lib/python3.11/dist-packages (from kaggle) (2025.1.31)\n",
            "Requirement already satisfied: charset-normalizer in /usr/local/lib/python3.11/dist-packages (from kaggle) (3.4.1)\n",
            "Requirement already satisfied: idna in /usr/local/lib/python3.11/dist-packages (from kaggle) (3.10)\n",
            "Requirement already satisfied: protobuf in /usr/local/lib/python3.11/dist-packages (from kaggle) (5.29.4)\n",
            "Requirement already satisfied: python-dateutil>=2.5.3 in /usr/local/lib/python3.11/dist-packages (from kaggle) (2.8.2)\n",
            "Requirement already satisfied: python-slugify in /usr/local/lib/python3.11/dist-packages (from kaggle) (8.0.4)\n",
            "Requirement already satisfied: requests in /usr/local/lib/python3.11/dist-packages (from kaggle) (2.32.3)\n",
            "Requirement already satisfied: setuptools>=21.0.0 in /usr/local/lib/python3.11/dist-packages (from kaggle) (75.1.0)\n",
            "Requirement already satisfied: six>=1.10 in /usr/local/lib/python3.11/dist-packages (from kaggle) (1.17.0)\n",
            "Requirement already satisfied: text-unidecode in /usr/local/lib/python3.11/dist-packages (from kaggle) (1.3)\n",
            "Requirement already satisfied: tqdm in /usr/local/lib/python3.11/dist-packages (from kaggle) (4.67.1)\n",
            "Requirement already satisfied: urllib3>=1.15.1 in /usr/local/lib/python3.11/dist-packages (from kaggle) (2.3.0)\n",
            "Requirement already satisfied: webencodings in /usr/local/lib/python3.11/dist-packages (from kaggle) (0.5.1)\n",
            "Dataset URL: https://www.kaggle.com/datasets/ananthu017/emotion-detection-fer\n",
            "License(s): CC0-1.0\n",
            "Downloading emotion-detection-fer.zip to /content\n",
            "  0% 0.00/65.2M [00:00<?, ?B/s]\n",
            "100% 65.2M/65.2M [00:00<00:00, 986MB/s]\n"
          ]
        }
      ]
    },
    {
      "cell_type": "code",
      "source": [
        "# Step 3: Load and Preprocess Images\n",
        "def load_images(base_dir):\n",
        "    images, labels = [], []\n",
        "    for category in os.listdir(base_dir):\n",
        "        category_path = os.path.join(base_dir, category)\n",
        "        if os.path.isdir(category_path):\n",
        "            for file in os.listdir(category_path):\n",
        "                if file.endswith('.jpg') or file.endswith('.png'):\n",
        "                    img = cv2.imread(os.path.join(category_path, file), cv2.IMREAD_GRAYSCALE)\n",
        "                    img = cv2.resize(img, (48, 48))\n",
        "                    images.append(img)\n",
        "                    labels.append(category)\n",
        "    return np.array(images), np.array(labels)\n",
        "\n",
        "train_dir = \"./emotion_data/train\"\n",
        "test_dir = \"./emotion_data/test\"\n",
        "X_train, y_train = load_images(train_dir)\n",
        "X_test, y_test = load_images(test_dir)\n",
        "\n",
        "# Normalize Images\n",
        "X_train = X_train / 255.0\n",
        "X_test = X_test / 255.0\n",
        "X_train = X_train.reshape(-1, 48, 48, 1)\n",
        "X_test = X_test.reshape(-1, 48, 48, 1)\n",
        "\n",
        "# Encode Labels\n",
        "le = LabelEncoder()\n",
        "y_train = le.fit_transform(y_train)\n",
        "y_test = le.transform(y_test)"
      ],
      "metadata": {
        "id": "8pRYbsSeuU0F"
      },
      "execution_count": 3,
      "outputs": []
    },
    {
      "cell_type": "code",
      "source": [
        "# Step 4: Build and Train CNN Model\n",
        "model_cnn = Sequential([\n",
        "    Conv2D(32, (3, 3), activation='relu', input_shape=(48, 48, 1)),\n",
        "    MaxPooling2D((2, 2)),\n",
        "    Conv2D(64, (3, 3), activation='relu'),\n",
        "    MaxPooling2D((2, 2)),\n",
        "    Flatten(),\n",
        "    Dense(128, activation='relu'),\n",
        "    Dropout(0.5),\n",
        "    Dense(len(le.classes_), activation='softmax')\n",
        "])\n",
        "model_cnn.compile(optimizer='adam', loss='sparse_categorical_crossentropy', metrics=['accuracy'])\n",
        "model_cnn.fit(X_train, y_train, epochs=30, validation_split=0.2)\n",
        "cnn_acc = model_cnn.evaluate(X_test, y_test)[1]\n",
        "print(f'CNN Accuracy: {cnn_acc * 100:.2f}%')\n",
        "model_cnn.save(\"cnn_emotion_model.h5\")"
      ],
      "metadata": {
        "colab": {
          "base_uri": "https://localhost:8080/"
        },
        "id": "JVojFgQUuZap",
        "outputId": "adb3dd42-3ca0-4916-bcdf-ea695ef9dcba"
      },
      "execution_count": 4,
      "outputs": [
        {
          "output_type": "stream",
          "name": "stderr",
          "text": [
            "/usr/local/lib/python3.11/dist-packages/keras/src/layers/convolutional/base_conv.py:107: UserWarning: Do not pass an `input_shape`/`input_dim` argument to a layer. When using Sequential models, prefer using an `Input(shape)` object as the first layer in the model instead.\n",
            "  super().__init__(activity_regularizer=activity_regularizer, **kwargs)\n"
          ]
        },
        {
          "output_type": "stream",
          "name": "stdout",
          "text": [
            "Epoch 1/30\n",
            "\u001b[1m718/718\u001b[0m \u001b[32m━━━━━━━━━━━━━━━━━━━━\u001b[0m\u001b[37m\u001b[0m \u001b[1m19s\u001b[0m 12ms/step - accuracy: 0.3366 - loss: 1.5381 - val_accuracy: 0.0369 - val_loss: 8.0169\n",
            "Epoch 2/30\n",
            "\u001b[1m718/718\u001b[0m \u001b[32m━━━━━━━━━━━━━━━━━━━━\u001b[0m\u001b[37m\u001b[0m \u001b[1m3s\u001b[0m 5ms/step - accuracy: 0.4900 - loss: 1.2476 - val_accuracy: 0.0435 - val_loss: 9.0286\n",
            "Epoch 3/30\n",
            "\u001b[1m718/718\u001b[0m \u001b[32m━━━━━━━━━━━━━━━━━━━━\u001b[0m\u001b[37m\u001b[0m \u001b[1m3s\u001b[0m 4ms/step - accuracy: 0.5373 - loss: 1.1421 - val_accuracy: 0.0542 - val_loss: 10.4817\n",
            "Epoch 4/30\n",
            "\u001b[1m718/718\u001b[0m \u001b[32m━━━━━━━━━━━━━━━━━━━━\u001b[0m\u001b[37m\u001b[0m \u001b[1m3s\u001b[0m 4ms/step - accuracy: 0.5594 - loss: 1.0874 - val_accuracy: 0.0489 - val_loss: 10.9395\n",
            "Epoch 5/30\n",
            "\u001b[1m718/718\u001b[0m \u001b[32m━━━━━━━━━━━━━━━━━━━━\u001b[0m\u001b[37m\u001b[0m \u001b[1m6s\u001b[0m 5ms/step - accuracy: 0.5912 - loss: 1.0165 - val_accuracy: 0.0496 - val_loss: 11.6685\n",
            "Epoch 6/30\n",
            "\u001b[1m718/718\u001b[0m \u001b[32m━━━━━━━━━━━━━━━━━━━━\u001b[0m\u001b[37m\u001b[0m \u001b[1m5s\u001b[0m 5ms/step - accuracy: 0.6146 - loss: 0.9745 - val_accuracy: 0.0453 - val_loss: 15.2839\n",
            "Epoch 7/30\n",
            "\u001b[1m718/718\u001b[0m \u001b[32m━━━━━━━━━━━━━━━━━━━━\u001b[0m\u001b[37m\u001b[0m \u001b[1m5s\u001b[0m 5ms/step - accuracy: 0.6291 - loss: 0.9302 - val_accuracy: 0.0563 - val_loss: 13.5093\n",
            "Epoch 8/30\n",
            "\u001b[1m718/718\u001b[0m \u001b[32m━━━━━━━━━━━━━━━━━━━━\u001b[0m\u001b[37m\u001b[0m \u001b[1m5s\u001b[0m 4ms/step - accuracy: 0.6496 - loss: 0.8905 - val_accuracy: 0.0519 - val_loss: 16.7940\n",
            "Epoch 9/30\n",
            "\u001b[1m718/718\u001b[0m \u001b[32m━━━━━━━━━━━━━━━━━━━━\u001b[0m\u001b[37m\u001b[0m \u001b[1m5s\u001b[0m 4ms/step - accuracy: 0.6670 - loss: 0.8360 - val_accuracy: 0.0547 - val_loss: 15.7937\n",
            "Epoch 10/30\n",
            "\u001b[1m718/718\u001b[0m \u001b[32m━━━━━━━━━━━━━━━━━━━━\u001b[0m\u001b[37m\u001b[0m \u001b[1m5s\u001b[0m 4ms/step - accuracy: 0.6862 - loss: 0.7987 - val_accuracy: 0.0481 - val_loss: 19.0322\n",
            "Epoch 11/30\n",
            "\u001b[1m718/718\u001b[0m \u001b[32m━━━━━━━━━━━━━━━━━━━━\u001b[0m\u001b[37m\u001b[0m \u001b[1m3s\u001b[0m 4ms/step - accuracy: 0.7039 - loss: 0.7570 - val_accuracy: 0.0507 - val_loss: 17.8072\n",
            "Epoch 12/30\n",
            "\u001b[1m718/718\u001b[0m \u001b[32m━━━━━━━━━━━━━━━━━━━━\u001b[0m\u001b[37m\u001b[0m \u001b[1m6s\u001b[0m 5ms/step - accuracy: 0.7176 - loss: 0.7171 - val_accuracy: 0.0526 - val_loss: 18.5825\n",
            "Epoch 13/30\n",
            "\u001b[1m718/718\u001b[0m \u001b[32m━━━━━━━━━━━━━━━━━━━━\u001b[0m\u001b[37m\u001b[0m \u001b[1m4s\u001b[0m 4ms/step - accuracy: 0.7310 - loss: 0.6778 - val_accuracy: 0.0556 - val_loss: 22.8321\n",
            "Epoch 14/30\n",
            "\u001b[1m718/718\u001b[0m \u001b[32m━━━━━━━━━━━━━━━━━━━━\u001b[0m\u001b[37m\u001b[0m \u001b[1m5s\u001b[0m 5ms/step - accuracy: 0.7391 - loss: 0.6555 - val_accuracy: 0.0545 - val_loss: 21.8490\n",
            "Epoch 15/30\n",
            "\u001b[1m718/718\u001b[0m \u001b[32m━━━━━━━━━━━━━━━━━━━━\u001b[0m\u001b[37m\u001b[0m \u001b[1m4s\u001b[0m 5ms/step - accuracy: 0.7538 - loss: 0.6183 - val_accuracy: 0.0559 - val_loss: 23.2046\n",
            "Epoch 16/30\n",
            "\u001b[1m718/718\u001b[0m \u001b[32m━━━━━━━━━━━━━━━━━━━━\u001b[0m\u001b[37m\u001b[0m \u001b[1m5s\u001b[0m 4ms/step - accuracy: 0.7596 - loss: 0.5922 - val_accuracy: 0.0543 - val_loss: 27.3504\n",
            "Epoch 17/30\n",
            "\u001b[1m718/718\u001b[0m \u001b[32m━━━━━━━━━━━━━━━━━━━━\u001b[0m\u001b[37m\u001b[0m \u001b[1m7s\u001b[0m 7ms/step - accuracy: 0.7730 - loss: 0.5719 - val_accuracy: 0.0538 - val_loss: 28.9704\n",
            "Epoch 18/30\n",
            "\u001b[1m718/718\u001b[0m \u001b[32m━━━━━━━━━━━━━━━━━━━━\u001b[0m\u001b[37m\u001b[0m \u001b[1m3s\u001b[0m 4ms/step - accuracy: 0.7891 - loss: 0.5262 - val_accuracy: 0.0568 - val_loss: 28.6579\n",
            "Epoch 19/30\n",
            "\u001b[1m718/718\u001b[0m \u001b[32m━━━━━━━━━━━━━━━━━━━━\u001b[0m\u001b[37m\u001b[0m \u001b[1m3s\u001b[0m 4ms/step - accuracy: 0.7942 - loss: 0.5173 - val_accuracy: 0.0533 - val_loss: 30.6684\n",
            "Epoch 20/30\n",
            "\u001b[1m718/718\u001b[0m \u001b[32m━━━━━━━━━━━━━━━━━━━━\u001b[0m\u001b[37m\u001b[0m \u001b[1m6s\u001b[0m 5ms/step - accuracy: 0.7881 - loss: 0.5030 - val_accuracy: 0.0552 - val_loss: 31.0034\n",
            "Epoch 21/30\n",
            "\u001b[1m718/718\u001b[0m \u001b[32m━━━━━━━━━━━━━━━━━━━━\u001b[0m\u001b[37m\u001b[0m \u001b[1m3s\u001b[0m 5ms/step - accuracy: 0.8072 - loss: 0.4686 - val_accuracy: 0.0522 - val_loss: 33.5469\n",
            "Epoch 22/30\n",
            "\u001b[1m718/718\u001b[0m \u001b[32m━━━━━━━━━━━━━━━━━━━━\u001b[0m\u001b[37m\u001b[0m \u001b[1m3s\u001b[0m 4ms/step - accuracy: 0.8091 - loss: 0.4555 - val_accuracy: 0.0491 - val_loss: 32.3658\n",
            "Epoch 23/30\n",
            "\u001b[1m718/718\u001b[0m \u001b[32m━━━━━━━━━━━━━━━━━━━━\u001b[0m\u001b[37m\u001b[0m \u001b[1m6s\u001b[0m 5ms/step - accuracy: 0.8156 - loss: 0.4404 - val_accuracy: 0.0556 - val_loss: 33.7441\n",
            "Epoch 24/30\n",
            "\u001b[1m718/718\u001b[0m \u001b[32m━━━━━━━━━━━━━━━━━━━━\u001b[0m\u001b[37m\u001b[0m \u001b[1m3s\u001b[0m 4ms/step - accuracy: 0.8192 - loss: 0.4302 - val_accuracy: 0.0519 - val_loss: 36.3762\n",
            "Epoch 25/30\n",
            "\u001b[1m718/718\u001b[0m \u001b[32m━━━━━━━━━━━━━━━━━━━━\u001b[0m\u001b[37m\u001b[0m \u001b[1m3s\u001b[0m 5ms/step - accuracy: 0.8285 - loss: 0.4146 - val_accuracy: 0.0519 - val_loss: 37.4729\n",
            "Epoch 26/30\n",
            "\u001b[1m718/718\u001b[0m \u001b[32m━━━━━━━━━━━━━━━━━━━━\u001b[0m\u001b[37m\u001b[0m \u001b[1m3s\u001b[0m 5ms/step - accuracy: 0.8410 - loss: 0.3911 - val_accuracy: 0.0507 - val_loss: 46.7647\n",
            "Epoch 27/30\n",
            "\u001b[1m718/718\u001b[0m \u001b[32m━━━━━━━━━━━━━━━━━━━━\u001b[0m\u001b[37m\u001b[0m \u001b[1m3s\u001b[0m 5ms/step - accuracy: 0.8413 - loss: 0.3871 - val_accuracy: 0.0554 - val_loss: 42.8052\n",
            "Epoch 28/30\n",
            "\u001b[1m718/718\u001b[0m \u001b[32m━━━━━━━━━━━━━━━━━━━━\u001b[0m\u001b[37m\u001b[0m \u001b[1m5s\u001b[0m 4ms/step - accuracy: 0.8413 - loss: 0.3781 - val_accuracy: 0.0535 - val_loss: 41.9737\n",
            "Epoch 29/30\n",
            "\u001b[1m718/718\u001b[0m \u001b[32m━━━━━━━━━━━━━━━━━━━━\u001b[0m\u001b[37m\u001b[0m \u001b[1m3s\u001b[0m 5ms/step - accuracy: 0.8378 - loss: 0.3817 - val_accuracy: 0.0549 - val_loss: 43.3103\n",
            "Epoch 30/30\n",
            "\u001b[1m718/718\u001b[0m \u001b[32m━━━━━━━━━━━━━━━━━━━━\u001b[0m\u001b[37m\u001b[0m \u001b[1m4s\u001b[0m 5ms/step - accuracy: 0.8467 - loss: 0.3607 - val_accuracy: 0.0569 - val_loss: 44.0384\n",
            "\u001b[1m225/225\u001b[0m \u001b[32m━━━━━━━━━━━━━━━━━━━━\u001b[0m\u001b[37m\u001b[0m \u001b[1m1s\u001b[0m 5ms/step - accuracy: 0.5574 - loss: 2.7563\n"
          ]
        },
        {
          "output_type": "stream",
          "name": "stderr",
          "text": [
            "WARNING:absl:You are saving your model as an HDF5 file via `model.save()` or `keras.saving.save_model(model)`. This file format is considered legacy. We recommend using instead the native Keras format, e.g. `model.save('my_model.keras')` or `keras.saving.save_model(model, 'my_model.keras')`. \n"
          ]
        },
        {
          "output_type": "stream",
          "name": "stdout",
          "text": [
            "CNN Accuracy: 50.72%\n"
          ]
        }
      ]
    },
    {
      "cell_type": "code",
      "source": [
        "\n",
        "# Step 5: Train Machine Learning Models\n",
        "from sklearn.svm import SVC\n",
        "from sklearn.ensemble import RandomForestClassifier\n",
        "from sklearn.linear_model import LogisticRegression\n",
        "from sklearn.neighbors import KNeighborsClassifier\n",
        "\n",
        "X_train_flat = X_train.reshape(X_train.shape[0], -1)\n",
        "X_test_flat = X_test.reshape(X_test.shape[0], -1)\n",
        "\n",
        "# SVM\n",
        "model_svm = SVC(kernel='linear')\n",
        "model_svm.fit(X_train_flat, y_train)\n",
        "svm_acc = accuracy_score(y_test, model_svm.predict(X_test_flat))\n",
        "pickle.dump(model_svm, open(\"svm_emotion_model.pkl\", \"wb\"))\n",
        "\n",
        "# Random Forest\n",
        "model_rf = RandomForestClassifier(n_estimators=100)\n",
        "model_rf.fit(X_train_flat, y_train)\n",
        "rf_acc = accuracy_score(y_test, model_rf.predict(X_test_flat))\n",
        "pickle.dump(model_rf, open(\"rf_emotion_model.pkl\", \"wb\"))\n",
        "\n",
        "# Logistic Regression\n",
        "model_lr = LogisticRegression(max_iter=1000)\n",
        "model_lr.fit(X_train_flat, y_train)\n",
        "lr_acc = accuracy_score(y_test, model_lr.predict(X_test_flat))\n",
        "pickle.dump(model_lr, open(\"lr_emotion_model.pkl\", \"wb\"))\n",
        "\n",
        "# KNN\n",
        "model_knn = KNeighborsClassifier(n_neighbors=5)\n",
        "model_knn.fit(X_train_flat, y_train)\n",
        "knn_acc = accuracy_score(y_test, model_knn.predict(X_test_flat))\n",
        "pickle.dump(model_knn, open(\"knn_emotion_model.pkl\", \"wb\"))"
      ],
      "metadata": {
        "colab": {
          "base_uri": "https://localhost:8080/"
        },
        "id": "pvSm0cKsuagN",
        "outputId": "f437d874-1abb-4f16-b8d8-69f5eccd0906"
      },
      "execution_count": 5,
      "outputs": [
        {
          "output_type": "stream",
          "name": "stderr",
          "text": [
            "/usr/local/lib/python3.11/dist-packages/sklearn/linear_model/_logistic.py:465: ConvergenceWarning: lbfgs failed to converge (status=1):\n",
            "STOP: TOTAL NO. of ITERATIONS REACHED LIMIT.\n",
            "\n",
            "Increase the number of iterations (max_iter) or scale the data as shown in:\n",
            "    https://scikit-learn.org/stable/modules/preprocessing.html\n",
            "Please also refer to the documentation for alternative solver options:\n",
            "    https://scikit-learn.org/stable/modules/linear_model.html#logistic-regression\n",
            "  n_iter_i = _check_optimize_result(\n"
          ]
        }
      ]
    },
    {
      "cell_type": "code",
      "source": [
        "# Step 6: Accuracy Comparison Plot\n",
        "plt.figure(figsize=(10, 5))\n",
        "sns.barplot(x=[\"CNN\", \"SVM\", \"Random Forest\", \"Logistic Regression\", \"KNN\"],\n",
        "            y=[cnn_acc, svm_acc, rf_acc, lr_acc, knn_acc])\n",
        "plt.title('Model Accuracy Comparison')\n",
        "plt.xlabel('Model')\n",
        "plt.ylabel('Accuracy')\n",
        "plt.show()"
      ],
      "metadata": {
        "colab": {
          "base_uri": "https://localhost:8080/",
          "height": 487
        },
        "id": "Hxn3itDHugcv",
        "outputId": "f3bec61b-11fe-4879-bf56-6caf66dd71ff"
      },
      "execution_count": 6,
      "outputs": [
        {
          "output_type": "display_data",
          "data": {
            "text/plain": [
              "<Figure size 1000x500 with 1 Axes>"
            ],
            "image/png": "[encoded data removed]"
          },
          "metadata": {}
        }
      ]
    },
    {
      "cell_type": "code",
      "source": [
        "# Random Image Prediction\n",
        "import random # Import the random module\n",
        "\n",
        "def predict_random_image():\n",
        "    idx = random.randint(0, len(X_test) - 1)\n",
        "    img = X_test[idx].reshape(48, 48)\n",
        "    true_label = le.inverse_transform([y_test[idx]])[0]\n",
        "    img_flat = X_test_flat[idx].reshape(1, -1)\n",
        "\n",
        "    cnn_pred = le.inverse_transform([np.argmax(model_cnn.predict(X_test[idx].reshape(1, 48, 48, 1)))])[0]\n",
        "    svm_pred = le.inverse_transform([model_svm.predict(img_flat)[0]])[0]\n",
        "    rf_pred = le.inverse_transform([model_rf.predict(img_flat)[0]])[0]\n",
        "    lr_pred = le.inverse_transform([model_lr.predict(img_flat)[0]])[0]\n",
        "    knn_pred = le.inverse_transform([model_knn.predict(img_flat)[0]])[0]\n",
        "\n",
        "    plt.imshow(img, cmap='gray')\n",
        "    plt.title(f\"True: {true_label}\\nCNN: {cnn_pred}\\nSVM: {svm_pred}\\nRF: {rf_pred}\\nLR: {lr_pred}\\nKNN: {knn_pred}\")\n",
        "    plt.axis('off')\n",
        "    plt.show()\n",
        "\n",
        "predict_random_image()"
      ],
      "metadata": {
        "colab": {
          "base_uri": "https://localhost:8080/",
          "height": 549
        },
        "id": "vbQ8T1hLvElX",
        "outputId": "d730f3b2-711e-4e24-b382-52c932094e3e"
      },
      "execution_count": 8,
      "outputs": [
        {
          "output_type": "stream",
          "name": "stdout",
          "text": [
            "\u001b[1m1/1\u001b[0m \u001b[32m━━━━━━━━━━━━━━━━━━━━\u001b[0m\u001b[37m\u001b[0m \u001b[1m0s\u001b[0m 489ms/step\n"
          ]
        },
        {
          "output_type": "display_data",
          "data": {
            "text/plain": [
              "<Figure size 640x480 with 1 Axes>"
            ],
            "image/png": "[encoded data removed]"
          },
          "metadata": {}
        }
      ]
    },
    {
      "cell_type": "code",
      "source": [
        "from google.colab import files\n",
        "\n",
        "# Download CNN Model\n",
        "files.download(\"cnn_emotion_model.h5\")"
      ],
      "metadata": {
        "colab": {
          "base_uri": "https://localhost:8080/",
          "height": 17
        },
        "id": "jnIbuHeQEzwQ",
        "outputId": "b6fe32f1-8efc-4ad4-cdb9-1cabd8349b0c"
      },
      "execution_count": 9,
      "outputs": [
        {
          "output_type": "display_data",
          "data": {
            "text/plain": [
              "<IPython.core.display.Javascript object>"
            ],
            "application/javascript": [
              "\n",
              "    async function download(id, filename, size) {\n",
              "      if (!google.colab.kernel.accessAllowed) {\n",
              "        return;\n",
              "      }\n",
              "      const div = document.createElement('div');\n",
              "      const label = document.createElement('label');\n",
              "      label.textContent = `Downloading \"${filename}\": `;\n",
              "      div.appendChild(label);\n",
              "      const progress = document.createElement('progress');\n",
              "      progress.max = size;\n",
              "      div.appendChild(progress);\n",
              "      document.body.appendChild(div);\n",
              "\n",
              "      const buffers = [];\n",
              "      let downloaded = 0;\n",
              "\n",
              "      const channel = await google.colab.kernel.comms.open(id);\n",
              "      // Send a message to notify the kernel that we're ready.\n",
              "      channel.send({})\n",
              "\n",
              "      for await (const message of channel.messages) {\n",
              "        // Send a message to notify the kernel that we're ready.\n",
              "        channel.send({})\n",
              "        if (message.buffers) {\n",
              "          for (const buffer of message.buffers) {\n",
              "            buffers.push(buffer);\n",
              "            downloaded += buffer.byteLength;\n",
              "            progress.value = downloaded;\n",
              "          }\n",
              "        }\n",
              "      }\n",
              "      const blob = new Blob(buffers, {type: 'application/binary'});\n",
              "      const a = document.createElement('a');\n",
              "      a.href = window.URL.createObjectURL(blob);\n",
              "      a.download = filename;\n",
              "      div.appendChild(a);\n",
              "      a.click();\n",
              "      div.remove();\n",
              "    }\n",
              "  "
            ]
          },
          "metadata": {}
        },
        {
          "output_type": "display_data",
          "data": {
            "text/plain": [
              "<IPython.core.display.Javascript object>"
            ],
            "application/javascript": [
              "download(\"download_f552b167-c54c-487f-a51e-a68f7c8faebf\", \"cnn_emotion_model.h5\", 10111040)"
            ]
          },
          "metadata": {}
        }
      ]
    }
  ]
}